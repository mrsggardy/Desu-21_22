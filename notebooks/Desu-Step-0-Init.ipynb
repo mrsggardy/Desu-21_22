{
 "cells": [
  {
   "cell_type": "markdown",
   "id": "c5f9d5f7-9cb9-407d-ad78-045519eef967",
   "metadata": {},
   "source": [
    "# Notebook technique d'init"
   ]
  },
  {
   "cell_type": "code",
   "execution_count": 2,
   "id": "174b0eeb-2cb9-4fcd-b156-dc52120fbee1",
   "metadata": {},
   "outputs": [],
   "source": [
    "import pandas as pd\n",
    "import numpy as np\n",
    "import time\n",
    "import datetime\n",
    "import csv\n",
    "import mysql.connector\n",
    "import matplotlib.pyplot as plt\n",
    "import pymysql\n",
    "from sklearn.ensemble import RandomForestClassifier as RFC\n",
    "from sklearn.ensemble import RandomForestRegressor as RFR\n",
    "from sklearn.model_selection import train_test_split # séparation apprentissage-test\n",
    "from sklearn.model_selection import GridSearchCV # grid search (\"tuning\") et validation croisée"
   ]
  },
  {
   "cell_type": "markdown",
   "id": "703d33f7-0954-47cb-be1d-e3eda68f4899",
   "metadata": {},
   "source": [
    "## Intit des variables"
   ]
  },
  {
   "cell_type": "code",
   "execution_count": 3,
   "id": "ab6db21e-c366-4dfd-97e6-357932785d94",
   "metadata": {},
   "outputs": [],
   "source": [
    "pd.set_option('display.max_columns', None) # permet de visualiser toutes les colonnes d'un DF dans un describe\n",
    "\n",
    "filepath_data      = r\"C:\\Users\\gille\\JupyterProjects\\desu\\data\\external\"+chr(92)\n",
    "filepath_out       = r\"C:\\Users\\gille\\JupyterProjects\\desu\\data\\interim\"+chr(92)\n",
    "filepath_processed = r\"C:\\Users\\gille\\JupyterProjects\\desu\\data\\processed\"+chr(92)\n",
    "filepath_interim   = r\"C:\\Users\\gille\\JupyterProjects\\desu\\data\\interim\"+chr(92)\n",
    "\n",
    "file_dummy = r\"nutella.csv\"\n",
    "file_real  = r\"en.openfoodfacts.org.products.csv\"\n",
    "\n",
    "db  = pymysql.connect(host=\"localhost\", user=\"root\", passwd=\"lechat-30\", db=\"myphotos\")\n",
    "\n",
    "mydb = mysql.connector.connect(\n",
    "         host=\"localhost\",\n",
    "         user=\"root\",\n",
    "         passwd=\"lechat-30\",\n",
    "         port=3306,\n",
    "         db=\"myphotos\",\n",
    "         auth_plugin='mysql_native_password')\n",
    "\n"
   ]
  },
  {
   "cell_type": "code",
   "execution_count": 4,
   "id": "192fa40d-8bc1-4ee7-baaa-2d19697f36af",
   "metadata": {},
   "outputs": [],
   "source": [
    "# Messages de debug pour la console\n",
    "def debug(message=\" \",debug_mode=0) :\n",
    "    ts = time.time()\n",
    "    ts = datetime.datetime.fromtimestamp(ts).strftime('%Y-%m-%d %H:%M:%S')\n",
    "    if debug_mode == 0 :\n",
    "        print (\"{} Debug -> \".format(ts)+str(message))\n",
    "    if debug_mode == 1 :\n",
    "        print (\"{} Debug -> \".format(ts)+str(message)[:100]+\" .....\")"
   ]
  },
  {
   "cell_type": "code",
   "execution_count": 5,
   "id": "59803bff-2a66-4650-a244-f067e9bb41c0",
   "metadata": {},
   "outputs": [],
   "source": [
    "# Fonction d'execution d'un script SQL\n",
    "def exec_sql (statement,debug_mode=0) :\n",
    "    debug (statement,debug_mode)\n",
    "    cursor=mydb.cursor()\n",
    "    cursor.execute(statement)\n",
    "    list=[]\n",
    "    if \"SELECT\" in statement.upper() :\n",
    "        list=cursor.fetchall() \n",
    "    if \"INSERT\" in statement.upper() :\n",
    "        mydb.commit()\n",
    "    if \"UPDATE\" in statement.upper() :\n",
    "        mydb.commit()\n",
    "    cursor.close()\n",
    "    return list"
   ]
  },
  {
   "cell_type": "code",
   "execution_count": 6,
   "id": "d5a74fbb-4051-4bb0-bfca-7eaf6038e0c8",
   "metadata": {},
   "outputs": [],
   "source": [
    "def get_dataframe(sql_statement) :\n",
    "    values=exec_sql(sql_statement)\n",
    "    "
   ]
  },
  {
   "cell_type": "code",
   "execution_count": 7,
   "id": "5303000b-18ec-4006-aee4-893b11494da6",
   "metadata": {},
   "outputs": [],
   "source": [
    "def df_get (filepath,file_name,skiprows=10,nrows=500) :\n",
    "    debug(\"Lecture du fichier : \"+file_name+\"      ******************************************************\")\n",
    "    debug ()\n",
    "    df = pd.read_csv(filepath_data + file_name, delimiter='\\t', low_memory=False,\n",
    "                                   decimal=\",\",\n",
    "                                   header = 0, # Je ne prends pas la ligne d'en - tête du fichier\n",
    "                                   skiprows = skiprows,\n",
    "                                   nrows = nrows,\n",
    "                                   encoding='utf-8-sig',\n",
    "                                   # Ajout de header de colonne propres et limité à 64 Caractères\n",
    "                                   names = my_head\n",
    "                                   )\n",
    "    # debug (\"Tri sur le nom du produit FR\")\n",
    "    # df.sort_values(by=\"'product_name_fr'\")\n",
    "    \n",
    "    debug(\"Taille du dataframe après chargement:\"+str(df.memory_usage().sum() / (1024**2))) #converting to megabytes\n",
    "    debug() \n",
    "    \n",
    "    return df"
   ]
  }
 ],
 "metadata": {
  "kernelspec": {
   "display_name": "Python 3 (ipykernel)",
   "language": "python",
   "name": "python3"
  },
  "language_info": {
   "codemirror_mode": {
    "name": "ipython",
    "version": 3
   },
   "file_extension": ".py",
   "mimetype": "text/x-python",
   "name": "python",
   "nbconvert_exporter": "python",
   "pygments_lexer": "ipython3",
   "version": "3.7.13"
  }
 },
 "nbformat": 4,
 "nbformat_minor": 5
}
