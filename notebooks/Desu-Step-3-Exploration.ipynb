{
 "cells": [
  {
   "cell_type": "markdown",
   "id": "4ad5e838-1e93-46f6-a685-87ccd8558ba5",
   "metadata": {},
   "source": [
    "# Exploration de la table DESU.FOOD"
   ]
  },
  {
   "cell_type": "code",
   "execution_count": 1,
   "id": "71238d8f-3625-4067-856d-72caf9d7bc28",
   "metadata": {},
   "outputs": [],
   "source": [
    "%run ./Desu-Step-0-Init.ipynb"
   ]
  },
  {
   "cell_type": "code",
   "execution_count": null,
   "id": "fc824d95-15de-4352-b16f-a4afe1629baa",
   "metadata": {
    "tags": []
   },
   "outputs": [],
   "source": [
    "# Nombre de contributeur : 15928\n",
    "# Nombre d'article avec information d'additif : 437285\n",
    "# Moyenne de contribution :"
   ]
  },
  {
   "cell_type": "code",
   "execution_count": 47,
   "id": "66f93572-13ac-4448-9532-20819a5c53b1",
   "metadata": {
    "tags": []
   },
   "outputs": [],
   "source": [
    "df_creator =pd.read_sql_query(\"select creator,count(*) nbr from desu.food group by creator\",db)"
   ]
  },
  {
   "cell_type": "code",
   "execution_count": 60,
   "id": "5d4000c0-293b-45f4-95cf-8ab349a598ea",
   "metadata": {
    "tags": []
   },
   "outputs": [
    {
     "data": {
      "text/html": [
       "<div>\n",
       "<style scoped>\n",
       "    .dataframe tbody tr th:only-of-type {\n",
       "        vertical-align: middle;\n",
       "    }\n",
       "\n",
       "    .dataframe tbody tr th {\n",
       "        vertical-align: top;\n",
       "    }\n",
       "\n",
       "    .dataframe thead th {\n",
       "        text-align: right;\n",
       "    }\n",
       "</style>\n",
       "<table border=\"1\" class=\"dataframe\">\n",
       "  <thead>\n",
       "    <tr style=\"text-align: right;\">\n",
       "      <th></th>\n",
       "      <th>creator</th>\n",
       "      <th>nbr</th>\n",
       "      <th>percent</th>\n",
       "    </tr>\n",
       "  </thead>\n",
       "  <tbody>\n",
       "    <tr>\n",
       "      <th>7801</th>\n",
       "      <td>kiliweb</td>\n",
       "      <td>1391913</td>\n",
       "      <td>60.4</td>\n",
       "    </tr>\n",
       "    <tr>\n",
       "      <th>11251</th>\n",
       "      <td>openfoodfacts-contributors</td>\n",
       "      <td>188895</td>\n",
       "      <td>8.2</td>\n",
       "    </tr>\n",
       "    <tr>\n",
       "      <th>14930</th>\n",
       "      <td>usda-ndb-import</td>\n",
       "      <td>169827</td>\n",
       "      <td>7.4</td>\n",
       "    </tr>\n",
       "    <tr>\n",
       "      <th>11317</th>\n",
       "      <td>org-database-usda</td>\n",
       "      <td>134539</td>\n",
       "      <td>5.8</td>\n",
       "    </tr>\n",
       "    <tr>\n",
       "      <th>5071</th>\n",
       "      <td>foodvisor</td>\n",
       "      <td>47883</td>\n",
       "      <td>2.1</td>\n",
       "    </tr>\n",
       "    <tr>\n",
       "      <th>4235</th>\n",
       "      <td>elcoco</td>\n",
       "      <td>35164</td>\n",
       "      <td>1.5</td>\n",
       "    </tr>\n",
       "    <tr>\n",
       "      <th>3438</th>\n",
       "      <td>date-limite-app</td>\n",
       "      <td>31174</td>\n",
       "      <td>1.4</td>\n",
       "    </tr>\n",
       "    <tr>\n",
       "      <th>12145</th>\n",
       "      <td>prepperapp</td>\n",
       "      <td>23807</td>\n",
       "      <td>1.0</td>\n",
       "    </tr>\n",
       "    <tr>\n",
       "      <th>6431</th>\n",
       "      <td>inf</td>\n",
       "      <td>23747</td>\n",
       "      <td>1.0</td>\n",
       "    </tr>\n",
       "    <tr>\n",
       "      <th>11249</th>\n",
       "      <td>openfood-ch-import</td>\n",
       "      <td>11455</td>\n",
       "      <td>0.5</td>\n",
       "    </tr>\n",
       "    <tr>\n",
       "      <th>15316</th>\n",
       "      <td>waistline-app</td>\n",
       "      <td>11017</td>\n",
       "      <td>0.5</td>\n",
       "    </tr>\n",
       "    <tr>\n",
       "      <th>11039</th>\n",
       "      <td>nutrinet-sante</td>\n",
       "      <td>10538</td>\n",
       "      <td>0.5</td>\n",
       "    </tr>\n",
       "    <tr>\n",
       "      <th>13272</th>\n",
       "      <td>sebleouf</td>\n",
       "      <td>10327</td>\n",
       "      <td>0.4</td>\n",
       "    </tr>\n",
       "    <tr>\n",
       "      <th>14113</th>\n",
       "      <td>swipe-studio</td>\n",
       "      <td>9540</td>\n",
       "      <td>0.4</td>\n",
       "    </tr>\n",
       "    <tr>\n",
       "      <th>14176</th>\n",
       "      <td>tacite</td>\n",
       "      <td>8706</td>\n",
       "      <td>0.4</td>\n",
       "    </tr>\n",
       "    <tr>\n",
       "      <th>5045</th>\n",
       "      <td>foodless</td>\n",
       "      <td>6529</td>\n",
       "      <td>0.3</td>\n",
       "    </tr>\n",
       "    <tr>\n",
       "      <th>5944</th>\n",
       "      <td>halal-app-chakib</td>\n",
       "      <td>6154</td>\n",
       "      <td>0.3</td>\n",
       "    </tr>\n",
       "    <tr>\n",
       "      <th>14175</th>\n",
       "      <td>tacinte</td>\n",
       "      <td>5762</td>\n",
       "      <td>0.3</td>\n",
       "    </tr>\n",
       "    <tr>\n",
       "      <th>15068</th>\n",
       "      <td>veganeamos</td>\n",
       "      <td>5240</td>\n",
       "      <td>0.2</td>\n",
       "    </tr>\n",
       "    <tr>\n",
       "      <th>4908</th>\n",
       "      <td>fitster</td>\n",
       "      <td>5172</td>\n",
       "      <td>0.2</td>\n",
       "    </tr>\n",
       "    <tr>\n",
       "      <th>5060</th>\n",
       "      <td>foodrepo</td>\n",
       "      <td>3360</td>\n",
       "      <td>0.1</td>\n",
       "    </tr>\n",
       "    <tr>\n",
       "      <th>13934</th>\n",
       "      <td>stephane</td>\n",
       "      <td>2943</td>\n",
       "      <td>0.1</td>\n",
       "    </tr>\n",
       "  </tbody>\n",
       "</table>\n",
       "</div>"
      ],
      "text/plain": [
       "                          creator      nbr  percent\n",
       "7801                      kiliweb  1391913     60.4\n",
       "11251  openfoodfacts-contributors   188895      8.2\n",
       "14930             usda-ndb-import   169827      7.4\n",
       "11317           org-database-usda   134539      5.8\n",
       "5071                    foodvisor    47883      2.1\n",
       "4235                       elcoco    35164      1.5\n",
       "3438              date-limite-app    31174      1.4\n",
       "12145                  prepperapp    23807      1.0\n",
       "6431                          inf    23747      1.0\n",
       "11249          openfood-ch-import    11455      0.5\n",
       "15316               waistline-app    11017      0.5\n",
       "11039              nutrinet-sante    10538      0.5\n",
       "13272                    sebleouf    10327      0.4\n",
       "14113                swipe-studio     9540      0.4\n",
       "14176                      tacite     8706      0.4\n",
       "5045                     foodless     6529      0.3\n",
       "5944             halal-app-chakib     6154      0.3\n",
       "14175                     tacinte     5762      0.3\n",
       "15068                  veganeamos     5240      0.2\n",
       "4908                      fitster     5172      0.2\n",
       "5060                     foodrepo     3360      0.1\n",
       "13934                    stephane     2943      0.1"
      ]
     },
     "execution_count": 60,
     "metadata": {},
     "output_type": "execute_result"
    }
   ],
   "source": [
    "df_creator[\"percent\"]=round((df_creator[\"nbr\"]/df_creator[\"nbr\"].sum())*100,1)\n",
    "df_creator.sort_values(by=['nbr'], ascending=False).head(22+0)"
   ]
  },
  {
   "cell_type": "code",
   "execution_count": 61,
   "id": "151e2d46-6bca-4524-adcb-8da254b3fe67",
   "metadata": {
    "tags": []
   },
   "outputs": [],
   "source": [
    "df_cab_fp =pd.read_sql_query(\"select code,carbon_footprint_100g from desu.food\",db)"
   ]
  },
  {
   "cell_type": "code",
   "execution_count": 75,
   "id": "89ae4511-1418-402b-8517-2288de98d100",
   "metadata": {
    "tags": []
   },
   "outputs": [
    {
     "data": {
      "text/plain": [
       "carbon_footprint_100g\n",
       "True     2304017\n",
       "False        489\n",
       "dtype: int64"
      ]
     },
     "execution_count": 75,
     "metadata": {},
     "output_type": "execute_result"
    }
   ],
   "source": [
    "df_cab_fp.value_counts (df_cab_fp[\"carbon_footprint_100g\"]==\"nan\")"
   ]
  }
 ],
 "metadata": {
  "kernelspec": {
   "display_name": "Python 3 (ipykernel)",
   "language": "python",
   "name": "python3"
  },
  "language_info": {
   "codemirror_mode": {
    "name": "ipython",
    "version": 3
   },
   "file_extension": ".py",
   "mimetype": "text/x-python",
   "name": "python",
   "nbconvert_exporter": "python",
   "pygments_lexer": "ipython3",
   "version": "3.7.13"
  }
 },
 "nbformat": 4,
 "nbformat_minor": 5
}
